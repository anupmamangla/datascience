{
 "cells": [
  {
   "cell_type": "markdown",
   "metadata": {},
   "source": [
    "Predictive Analytics - Anupma Mangla"
   ]
  },
  {
   "cell_type": "markdown",
   "metadata": {},
   "source": [
    "### Heart Disease Dataset Analysis:\n",
    "\n",
    "* Problem Statement: To analyze the heart disease dataset to predict presence/absence of heart disease using the given features in dataset.\n",
    "\n",
    "* Dataset Details:\n",
    "    - It is taken from kaggle. URL:  https://www.kaggle.com/ronitf/heart-disease-uci\n",
    "    - Dataset uses the relevant health exam indicators in patients and analyzes their influences on heart disease. The dataset has 14 key attributes.\n",
    " \n",
    "### Steps\n",
    "\n",
    "* Load the packages\n",
    "* Load the dataset\n",
    "* EDA\n",
    "* Explore type of variables to Identify Regression vs Classification problem\n",
    "* Chi-square test to determine the relationship between variables\n",
    "* Prepare, train and test Model\n",
    "* Random Forest Classification\n",
    "* k-fold cross-validation\n",
    "* Hyper-parameter tuning for RF Classifier\n",
    "* Use other classification models and compare performance\n"
   ]
  },
  {
   "cell_type": "markdown",
   "metadata": {},
   "source": [
    "### Load the Packages"
   ]
  },
  {
   "cell_type": "code",
   "execution_count": 587,
   "metadata": {
    "collapsed": true
   },
   "outputs": [],
   "source": [
    "import numpy as np\n",
    "import pandas as pd\n",
    "import sklearn\n",
    "import scipy.stats\n",
    "import seaborn as sns\n",
    "import matplotlib.pyplot as plt\n",
    "%matplotlib inline"
   ]
  },
  {
   "cell_type": "markdown",
   "metadata": {},
   "source": [
    "### Load the Dataset"
   ]
  },
  {
   "cell_type": "code",
   "execution_count": 588,
   "metadata": {},
   "outputs": [
    {
     "name": "stdout",
     "output_type": "stream",
     "text": [
      "<class 'pandas.core.frame.DataFrame'>\n"
     ]
    },
    {
     "data": {
      "text/html": [
       "<div>\n",
       "<style>\n",
       "    .dataframe thead tr:only-child th {\n",
       "        text-align: right;\n",
       "    }\n",
       "\n",
       "    .dataframe thead th {\n",
       "        text-align: left;\n",
       "    }\n",
       "\n",
       "    .dataframe tbody tr th {\n",
       "        vertical-align: top;\n",
       "    }\n",
       "</style>\n",
       "<table border=\"1\" class=\"dataframe\">\n",
       "  <thead>\n",
       "    <tr style=\"text-align: right;\">\n",
       "      <th></th>\n",
       "      <th>age</th>\n",
       "      <th>sex</th>\n",
       "      <th>cp</th>\n",
       "      <th>trestbps</th>\n",
       "      <th>chol</th>\n",
       "      <th>fbs</th>\n",
       "      <th>restecg</th>\n",
       "      <th>thalach</th>\n",
       "      <th>exang</th>\n",
       "      <th>oldpeak</th>\n",
       "      <th>slope</th>\n",
       "      <th>ca</th>\n",
       "      <th>thal</th>\n",
       "      <th>target</th>\n",
       "    </tr>\n",
       "  </thead>\n",
       "  <tbody>\n",
       "    <tr>\n",
       "      <th>0</th>\n",
       "      <td>63</td>\n",
       "      <td>1</td>\n",
       "      <td>3</td>\n",
       "      <td>145</td>\n",
       "      <td>233</td>\n",
       "      <td>1</td>\n",
       "      <td>0</td>\n",
       "      <td>150</td>\n",
       "      <td>0</td>\n",
       "      <td>2.3</td>\n",
       "      <td>0</td>\n",
       "      <td>0</td>\n",
       "      <td>1</td>\n",
       "      <td>1</td>\n",
       "    </tr>\n",
       "    <tr>\n",
       "      <th>1</th>\n",
       "      <td>37</td>\n",
       "      <td>1</td>\n",
       "      <td>2</td>\n",
       "      <td>130</td>\n",
       "      <td>250</td>\n",
       "      <td>0</td>\n",
       "      <td>1</td>\n",
       "      <td>187</td>\n",
       "      <td>0</td>\n",
       "      <td>3.5</td>\n",
       "      <td>0</td>\n",
       "      <td>0</td>\n",
       "      <td>2</td>\n",
       "      <td>1</td>\n",
       "    </tr>\n",
       "    <tr>\n",
       "      <th>2</th>\n",
       "      <td>41</td>\n",
       "      <td>0</td>\n",
       "      <td>1</td>\n",
       "      <td>130</td>\n",
       "      <td>204</td>\n",
       "      <td>0</td>\n",
       "      <td>0</td>\n",
       "      <td>172</td>\n",
       "      <td>0</td>\n",
       "      <td>1.4</td>\n",
       "      <td>2</td>\n",
       "      <td>0</td>\n",
       "      <td>2</td>\n",
       "      <td>1</td>\n",
       "    </tr>\n",
       "    <tr>\n",
       "      <th>3</th>\n",
       "      <td>56</td>\n",
       "      <td>1</td>\n",
       "      <td>1</td>\n",
       "      <td>120</td>\n",
       "      <td>236</td>\n",
       "      <td>0</td>\n",
       "      <td>1</td>\n",
       "      <td>178</td>\n",
       "      <td>0</td>\n",
       "      <td>0.8</td>\n",
       "      <td>2</td>\n",
       "      <td>0</td>\n",
       "      <td>2</td>\n",
       "      <td>1</td>\n",
       "    </tr>\n",
       "    <tr>\n",
       "      <th>4</th>\n",
       "      <td>57</td>\n",
       "      <td>0</td>\n",
       "      <td>0</td>\n",
       "      <td>120</td>\n",
       "      <td>354</td>\n",
       "      <td>0</td>\n",
       "      <td>1</td>\n",
       "      <td>163</td>\n",
       "      <td>1</td>\n",
       "      <td>0.6</td>\n",
       "      <td>2</td>\n",
       "      <td>0</td>\n",
       "      <td>2</td>\n",
       "      <td>1</td>\n",
       "    </tr>\n",
       "  </tbody>\n",
       "</table>\n",
       "</div>"
      ],
      "text/plain": [
       "   age  sex  cp  trestbps  chol  fbs  restecg  thalach  exang  oldpeak  slope  \\\n",
       "0   63    1   3       145   233    1        0      150      0      2.3      0   \n",
       "1   37    1   2       130   250    0        1      187      0      3.5      0   \n",
       "2   41    0   1       130   204    0        0      172      0      1.4      2   \n",
       "3   56    1   1       120   236    0        1      178      0      0.8      2   \n",
       "4   57    0   0       120   354    0        1      163      1      0.6      2   \n",
       "\n",
       "   ca  thal  target  \n",
       "0   0     1       1  \n",
       "1   0     2       1  \n",
       "2   0     2       1  \n",
       "3   0     2       1  \n",
       "4   0     2       1  "
      ]
     },
     "execution_count": 588,
     "metadata": {},
     "output_type": "execute_result"
    }
   ],
   "source": [
    "df = pd.read_csv('heart.csv')\n",
    "print(type(df))\n",
    "(df.head())"
   ]
  },
  {
   "cell_type": "markdown",
   "metadata": {},
   "source": [
    "### Attributes/ Feature details \n",
    "\n",
    "Here is the explaination of the different attributes in the above dataset:\n",
    "\n",
    "1. Age: age of the patient in years\n",
    "2. Sex: gender of a patient, \n",
    "    * 1 = male\n",
    "    * 0 = female\n",
    "3. cp: chest pain type,\n",
    "    * Value 1: typical angina\n",
    "    * Value 2: atypical angina\n",
    "    * Value 3: non-anginal pain\n",
    "    * Value 4: asymptomatic\n",
    "4. trestbps: resting blood pressure of a patient (in mm Hg on admission to the hospital)\n",
    "5. Chol: serum cholesterol in mg/dl\n",
    "6. Fbs: fasting blood sugar > 120 mg/dl,\n",
    "    * 1 = true\n",
    "    * 0 = false\n",
    "7. restecg : resting electrocardiographic results\n",
    "8. Thalach: maximum heart rate of a patient\n",
    "9. exang: exercise induced angina\n",
    "    * 1 = yes\n",
    "    * 0 = no\n",
    "10. oldpeak: ST depression induced by exercise relative to rest\n",
    "    This is an observation in treadmill ECG stress test used to diagnose coronary artery disease(CAD).  The treadmill electrocardiogram (ECG) stress test is widely used to screen for obstructive coronary artery disease. The presence of ST segment changes, either depression or elevation, on the ECG during the treadmill test often suggests presence of CAD and warrants further management.  CAD is diagnosed as the plaque buildup in the arteries, which move oxygen-rich blood through the heart and lungs\n",
    "11. Slope: the slope of the peak exercise ST segment\n",
    "    The slope is the ST segment/ Heart rate slope which is used as a indicator of coronary heart disease.\n",
    "12. Ca: number of major vessels (0-3) colored by fluoroscopy\n",
    "13. Thal: Thalassemia is an inherited blood disorder characterized by less hemoglobin and fewer red blood cells in your body than normal.  The type of thalassemia you have depends on the number of gene mutations you inherit from your parents and which part of the hemoglobin molecule is affected by the mutations. The more mutated genes, the more severe your thalassemia. Heart problems such as congestive heart failure and abnormal heart rhythms (arrhythmias) may be associated with severe thalassemia.\n",
    "    * 3 = normal; \n",
    "    * 6 = fixed defect; \n",
    "    * 7 = reversible defect\n",
    "14. Target: The “target” field refers to the presence of heart disease in the patient. It is the dependent variable and rest all the variable are the independent variable.\n",
    "    * 1 = presence on heart disease\n",
    "    * 0 = absence of heart disease\n",
    "     \n",
    "\n"
   ]
  },
  {
   "cell_type": "code",
   "execution_count": 589,
   "metadata": {},
   "outputs": [
    {
     "data": {
      "text/html": [
       "<div>\n",
       "<style>\n",
       "    .dataframe thead tr:only-child th {\n",
       "        text-align: right;\n",
       "    }\n",
       "\n",
       "    .dataframe thead th {\n",
       "        text-align: left;\n",
       "    }\n",
       "\n",
       "    .dataframe tbody tr th {\n",
       "        vertical-align: top;\n",
       "    }\n",
       "</style>\n",
       "<table border=\"1\" class=\"dataframe\">\n",
       "  <thead>\n",
       "    <tr style=\"text-align: right;\">\n",
       "      <th></th>\n",
       "      <th>age</th>\n",
       "      <th>sex</th>\n",
       "      <th>chest_pain_type</th>\n",
       "      <th>resting_blood_pressure</th>\n",
       "      <th>cholesterol</th>\n",
       "      <th>fasting_blood_sugar</th>\n",
       "      <th>rest_ecg</th>\n",
       "      <th>max_heart_rate_achieved</th>\n",
       "      <th>exercise_induced_angina</th>\n",
       "      <th>st_depression</th>\n",
       "      <th>st_slope</th>\n",
       "      <th>num_major_vessels</th>\n",
       "      <th>thalassemia</th>\n",
       "      <th>target</th>\n",
       "    </tr>\n",
       "  </thead>\n",
       "  <tbody>\n",
       "    <tr>\n",
       "      <th>0</th>\n",
       "      <td>63</td>\n",
       "      <td>1</td>\n",
       "      <td>3</td>\n",
       "      <td>145</td>\n",
       "      <td>233</td>\n",
       "      <td>1</td>\n",
       "      <td>0</td>\n",
       "      <td>150</td>\n",
       "      <td>0</td>\n",
       "      <td>2.3</td>\n",
       "      <td>0</td>\n",
       "      <td>0</td>\n",
       "      <td>1</td>\n",
       "      <td>1</td>\n",
       "    </tr>\n",
       "    <tr>\n",
       "      <th>1</th>\n",
       "      <td>37</td>\n",
       "      <td>1</td>\n",
       "      <td>2</td>\n",
       "      <td>130</td>\n",
       "      <td>250</td>\n",
       "      <td>0</td>\n",
       "      <td>1</td>\n",
       "      <td>187</td>\n",
       "      <td>0</td>\n",
       "      <td>3.5</td>\n",
       "      <td>0</td>\n",
       "      <td>0</td>\n",
       "      <td>2</td>\n",
       "      <td>1</td>\n",
       "    </tr>\n",
       "    <tr>\n",
       "      <th>2</th>\n",
       "      <td>41</td>\n",
       "      <td>0</td>\n",
       "      <td>1</td>\n",
       "      <td>130</td>\n",
       "      <td>204</td>\n",
       "      <td>0</td>\n",
       "      <td>0</td>\n",
       "      <td>172</td>\n",
       "      <td>0</td>\n",
       "      <td>1.4</td>\n",
       "      <td>2</td>\n",
       "      <td>0</td>\n",
       "      <td>2</td>\n",
       "      <td>1</td>\n",
       "    </tr>\n",
       "    <tr>\n",
       "      <th>3</th>\n",
       "      <td>56</td>\n",
       "      <td>1</td>\n",
       "      <td>1</td>\n",
       "      <td>120</td>\n",
       "      <td>236</td>\n",
       "      <td>0</td>\n",
       "      <td>1</td>\n",
       "      <td>178</td>\n",
       "      <td>0</td>\n",
       "      <td>0.8</td>\n",
       "      <td>2</td>\n",
       "      <td>0</td>\n",
       "      <td>2</td>\n",
       "      <td>1</td>\n",
       "    </tr>\n",
       "    <tr>\n",
       "      <th>4</th>\n",
       "      <td>57</td>\n",
       "      <td>0</td>\n",
       "      <td>0</td>\n",
       "      <td>120</td>\n",
       "      <td>354</td>\n",
       "      <td>0</td>\n",
       "      <td>1</td>\n",
       "      <td>163</td>\n",
       "      <td>1</td>\n",
       "      <td>0.6</td>\n",
       "      <td>2</td>\n",
       "      <td>0</td>\n",
       "      <td>2</td>\n",
       "      <td>1</td>\n",
       "    </tr>\n",
       "  </tbody>\n",
       "</table>\n",
       "</div>"
      ],
      "text/plain": [
       "   age  sex  chest_pain_type  resting_blood_pressure  cholesterol  \\\n",
       "0   63    1                3                     145          233   \n",
       "1   37    1                2                     130          250   \n",
       "2   41    0                1                     130          204   \n",
       "3   56    1                1                     120          236   \n",
       "4   57    0                0                     120          354   \n",
       "\n",
       "   fasting_blood_sugar  rest_ecg  max_heart_rate_achieved  \\\n",
       "0                    1         0                      150   \n",
       "1                    0         1                      187   \n",
       "2                    0         0                      172   \n",
       "3                    0         1                      178   \n",
       "4                    0         1                      163   \n",
       "\n",
       "   exercise_induced_angina  st_depression  st_slope  num_major_vessels  \\\n",
       "0                        0            2.3         0                  0   \n",
       "1                        0            3.5         0                  0   \n",
       "2                        0            1.4         2                  0   \n",
       "3                        0            0.8         2                  0   \n",
       "4                        1            0.6         2                  0   \n",
       "\n",
       "   thalassemia  target  \n",
       "0            1       1  \n",
       "1            2       1  \n",
       "2            2       1  \n",
       "3            2       1  \n",
       "4            2       1  "
      ]
     },
     "execution_count": 589,
     "metadata": {},
     "output_type": "execute_result"
    }
   ],
   "source": [
    "# rename columns to be expalanatory\n",
    "\n",
    "df.columns = ['age', 'sex', 'chest_pain_type', 'resting_blood_pressure', 'cholesterol', 'fasting_blood_sugar', 'rest_ecg', 'max_heart_rate_achieved',\n",
    "       'exercise_induced_angina', 'st_depression', 'st_slope', 'num_major_vessels', 'thalassemia', 'target']\n",
    "df.head()"
   ]
  },
  {
   "cell_type": "markdown",
   "metadata": {},
   "source": [
    "### Data Exploration to get some insights"
   ]
  },
  {
   "cell_type": "code",
   "execution_count": 590,
   "metadata": {
    "scrolled": true
   },
   "outputs": [
    {
     "name": "stdout",
     "output_type": "stream",
     "text": [
      "Keys :  Index(['age', 'sex', 'chest_pain_type', 'resting_blood_pressure',\n",
      "       'cholesterol', 'fasting_blood_sugar', 'rest_ecg',\n",
      "       'max_heart_rate_achieved', 'exercise_induced_angina', 'st_depression',\n",
      "       'st_slope', 'num_major_vessels', 'thalassemia', 'target'],\n",
      "      dtype='object')\n",
      "data.shape :  (303, 14)\n",
      "target.shape :  (303,)\n"
     ]
    }
   ],
   "source": [
    "## Get the keys in dataset\n",
    "print(\"Keys : \", df.keys())\n",
    "print(\"data.shape : \", df.shape)\n",
    "print(\"target.shape : \", df.target.shape) "
   ]
  },
  {
   "cell_type": "code",
   "execution_count": 591,
   "metadata": {},
   "outputs": [
    {
     "name": "stdout",
     "output_type": "stream",
     "text": [
      "age                          int64\n",
      "sex                          int64\n",
      "chest_pain_type              int64\n",
      "resting_blood_pressure       int64\n",
      "cholesterol                  int64\n",
      "fasting_blood_sugar          int64\n",
      "rest_ecg                     int64\n",
      "max_heart_rate_achieved      int64\n",
      "exercise_induced_angina      int64\n",
      "st_depression              float64\n",
      "st_slope                     int64\n",
      "num_major_vessels            int64\n",
      "thalassemia                  int64\n",
      "target                       int64\n",
      "dtype: object\n"
     ]
    }
   ],
   "source": [
    "## Get data types\n",
    "print(df.dtypes)\n"
   ]
  },
  {
   "cell_type": "markdown",
   "metadata": {},
   "source": [
    "### Check for missing values"
   ]
  },
  {
   "cell_type": "code",
   "execution_count": 592,
   "metadata": {},
   "outputs": [
    {
     "data": {
      "text/plain": [
       "age                        0\n",
       "sex                        0\n",
       "chest_pain_type            0\n",
       "resting_blood_pressure     0\n",
       "cholesterol                0\n",
       "fasting_blood_sugar        0\n",
       "rest_ecg                   0\n",
       "max_heart_rate_achieved    0\n",
       "exercise_induced_angina    0\n",
       "st_depression              0\n",
       "st_slope                   0\n",
       "num_major_vessels          0\n",
       "thalassemia                0\n",
       "target                     0\n",
       "dtype: int64"
      ]
     },
     "execution_count": 592,
     "metadata": {},
     "output_type": "execute_result"
    }
   ],
   "source": [
    "#  Check if any null values\n",
    "df.isnull().sum()"
   ]
  },
  {
   "cell_type": "code",
   "execution_count": 593,
   "metadata": {
    "scrolled": true
   },
   "outputs": [
    {
     "data": {
      "text/html": [
       "<div>\n",
       "<style>\n",
       "    .dataframe thead tr:only-child th {\n",
       "        text-align: right;\n",
       "    }\n",
       "\n",
       "    .dataframe thead th {\n",
       "        text-align: left;\n",
       "    }\n",
       "\n",
       "    .dataframe tbody tr th {\n",
       "        vertical-align: top;\n",
       "    }\n",
       "</style>\n",
       "<table border=\"1\" class=\"dataframe\">\n",
       "  <thead>\n",
       "    <tr style=\"text-align: right;\">\n",
       "      <th></th>\n",
       "      <th>age</th>\n",
       "      <th>sex</th>\n",
       "      <th>chest_pain_type</th>\n",
       "      <th>resting_blood_pressure</th>\n",
       "      <th>cholesterol</th>\n",
       "      <th>fasting_blood_sugar</th>\n",
       "      <th>rest_ecg</th>\n",
       "      <th>max_heart_rate_achieved</th>\n",
       "      <th>exercise_induced_angina</th>\n",
       "      <th>st_depression</th>\n",
       "      <th>st_slope</th>\n",
       "      <th>num_major_vessels</th>\n",
       "      <th>thalassemia</th>\n",
       "      <th>target</th>\n",
       "    </tr>\n",
       "  </thead>\n",
       "  <tbody>\n",
       "    <tr>\n",
       "      <th>count</th>\n",
       "      <td>303.000000</td>\n",
       "      <td>303.000000</td>\n",
       "      <td>303.000000</td>\n",
       "      <td>303.000000</td>\n",
       "      <td>303.000000</td>\n",
       "      <td>303.000000</td>\n",
       "      <td>303.000000</td>\n",
       "      <td>303.000000</td>\n",
       "      <td>303.000000</td>\n",
       "      <td>303.000000</td>\n",
       "      <td>303.000000</td>\n",
       "      <td>303.000000</td>\n",
       "      <td>303.000000</td>\n",
       "      <td>303.000000</td>\n",
       "    </tr>\n",
       "    <tr>\n",
       "      <th>mean</th>\n",
       "      <td>54.366337</td>\n",
       "      <td>0.683168</td>\n",
       "      <td>0.966997</td>\n",
       "      <td>131.623762</td>\n",
       "      <td>246.264026</td>\n",
       "      <td>0.148515</td>\n",
       "      <td>0.528053</td>\n",
       "      <td>149.646865</td>\n",
       "      <td>0.326733</td>\n",
       "      <td>1.039604</td>\n",
       "      <td>1.399340</td>\n",
       "      <td>0.729373</td>\n",
       "      <td>2.313531</td>\n",
       "      <td>0.544554</td>\n",
       "    </tr>\n",
       "    <tr>\n",
       "      <th>std</th>\n",
       "      <td>9.082101</td>\n",
       "      <td>0.466011</td>\n",
       "      <td>1.032052</td>\n",
       "      <td>17.538143</td>\n",
       "      <td>51.830751</td>\n",
       "      <td>0.356198</td>\n",
       "      <td>0.525860</td>\n",
       "      <td>22.905161</td>\n",
       "      <td>0.469794</td>\n",
       "      <td>1.161075</td>\n",
       "      <td>0.616226</td>\n",
       "      <td>1.022606</td>\n",
       "      <td>0.612277</td>\n",
       "      <td>0.498835</td>\n",
       "    </tr>\n",
       "    <tr>\n",
       "      <th>min</th>\n",
       "      <td>29.000000</td>\n",
       "      <td>0.000000</td>\n",
       "      <td>0.000000</td>\n",
       "      <td>94.000000</td>\n",
       "      <td>126.000000</td>\n",
       "      <td>0.000000</td>\n",
       "      <td>0.000000</td>\n",
       "      <td>71.000000</td>\n",
       "      <td>0.000000</td>\n",
       "      <td>0.000000</td>\n",
       "      <td>0.000000</td>\n",
       "      <td>0.000000</td>\n",
       "      <td>0.000000</td>\n",
       "      <td>0.000000</td>\n",
       "    </tr>\n",
       "    <tr>\n",
       "      <th>25%</th>\n",
       "      <td>47.500000</td>\n",
       "      <td>0.000000</td>\n",
       "      <td>0.000000</td>\n",
       "      <td>120.000000</td>\n",
       "      <td>211.000000</td>\n",
       "      <td>0.000000</td>\n",
       "      <td>0.000000</td>\n",
       "      <td>133.500000</td>\n",
       "      <td>0.000000</td>\n",
       "      <td>0.000000</td>\n",
       "      <td>1.000000</td>\n",
       "      <td>0.000000</td>\n",
       "      <td>2.000000</td>\n",
       "      <td>0.000000</td>\n",
       "    </tr>\n",
       "    <tr>\n",
       "      <th>50%</th>\n",
       "      <td>55.000000</td>\n",
       "      <td>1.000000</td>\n",
       "      <td>1.000000</td>\n",
       "      <td>130.000000</td>\n",
       "      <td>240.000000</td>\n",
       "      <td>0.000000</td>\n",
       "      <td>1.000000</td>\n",
       "      <td>153.000000</td>\n",
       "      <td>0.000000</td>\n",
       "      <td>0.800000</td>\n",
       "      <td>1.000000</td>\n",
       "      <td>0.000000</td>\n",
       "      <td>2.000000</td>\n",
       "      <td>1.000000</td>\n",
       "    </tr>\n",
       "    <tr>\n",
       "      <th>75%</th>\n",
       "      <td>61.000000</td>\n",
       "      <td>1.000000</td>\n",
       "      <td>2.000000</td>\n",
       "      <td>140.000000</td>\n",
       "      <td>274.500000</td>\n",
       "      <td>0.000000</td>\n",
       "      <td>1.000000</td>\n",
       "      <td>166.000000</td>\n",
       "      <td>1.000000</td>\n",
       "      <td>1.600000</td>\n",
       "      <td>2.000000</td>\n",
       "      <td>1.000000</td>\n",
       "      <td>3.000000</td>\n",
       "      <td>1.000000</td>\n",
       "    </tr>\n",
       "    <tr>\n",
       "      <th>max</th>\n",
       "      <td>77.000000</td>\n",
       "      <td>1.000000</td>\n",
       "      <td>3.000000</td>\n",
       "      <td>200.000000</td>\n",
       "      <td>564.000000</td>\n",
       "      <td>1.000000</td>\n",
       "      <td>2.000000</td>\n",
       "      <td>202.000000</td>\n",
       "      <td>1.000000</td>\n",
       "      <td>6.200000</td>\n",
       "      <td>2.000000</td>\n",
       "      <td>4.000000</td>\n",
       "      <td>3.000000</td>\n",
       "      <td>1.000000</td>\n",
       "    </tr>\n",
       "  </tbody>\n",
       "</table>\n",
       "</div>"
      ],
      "text/plain": [
       "              age         sex  chest_pain_type  resting_blood_pressure  \\\n",
       "count  303.000000  303.000000       303.000000              303.000000   \n",
       "mean    54.366337    0.683168         0.966997              131.623762   \n",
       "std      9.082101    0.466011         1.032052               17.538143   \n",
       "min     29.000000    0.000000         0.000000               94.000000   \n",
       "25%     47.500000    0.000000         0.000000              120.000000   \n",
       "50%     55.000000    1.000000         1.000000              130.000000   \n",
       "75%     61.000000    1.000000         2.000000              140.000000   \n",
       "max     77.000000    1.000000         3.000000              200.000000   \n",
       "\n",
       "       cholesterol  fasting_blood_sugar    rest_ecg  max_heart_rate_achieved  \\\n",
       "count   303.000000           303.000000  303.000000               303.000000   \n",
       "mean    246.264026             0.148515    0.528053               149.646865   \n",
       "std      51.830751             0.356198    0.525860                22.905161   \n",
       "min     126.000000             0.000000    0.000000                71.000000   \n",
       "25%     211.000000             0.000000    0.000000               133.500000   \n",
       "50%     240.000000             0.000000    1.000000               153.000000   \n",
       "75%     274.500000             0.000000    1.000000               166.000000   \n",
       "max     564.000000             1.000000    2.000000               202.000000   \n",
       "\n",
       "       exercise_induced_angina  st_depression    st_slope  num_major_vessels  \\\n",
       "count               303.000000     303.000000  303.000000         303.000000   \n",
       "mean                  0.326733       1.039604    1.399340           0.729373   \n",
       "std                   0.469794       1.161075    0.616226           1.022606   \n",
       "min                   0.000000       0.000000    0.000000           0.000000   \n",
       "25%                   0.000000       0.000000    1.000000           0.000000   \n",
       "50%                   0.000000       0.800000    1.000000           0.000000   \n",
       "75%                   1.000000       1.600000    2.000000           1.000000   \n",
       "max                   1.000000       6.200000    2.000000           4.000000   \n",
       "\n",
       "       thalassemia      target  \n",
       "count   303.000000  303.000000  \n",
       "mean      2.313531    0.544554  \n",
       "std       0.612277    0.498835  \n",
       "min       0.000000    0.000000  \n",
       "25%       2.000000    0.000000  \n",
       "50%       2.000000    1.000000  \n",
       "75%       3.000000    1.000000  \n",
       "max       3.000000    1.000000  "
      ]
     },
     "execution_count": 593,
     "metadata": {},
     "output_type": "execute_result"
    }
   ],
   "source": [
    "## Get descriptive stats of each feature to look at the distribution of dataset\n",
    "\n",
    "df.describe()\n"
   ]
  },
  {
   "cell_type": "markdown",
   "metadata": {},
   "source": [
    "### Dataset with categorical variables\n",
    "\n",
    "The dataset has 303 observations and 14 attributes. \n",
    "\n",
    "From the above attributes and describing the dataset, we can see that there are several categorical variables like sex, chest pain type, fasting blood sugar, exercise induced angina, st_slope, num_major_vessels, thalassemia and target. \n",
    "\n",
    "This problem is therefore a classification problem and we will use different classification models to predict the presence/ absence of heart disease."
   ]
  },
  {
   "cell_type": "markdown",
   "metadata": {},
   "source": [
    "###  Munge the data and convert the categorical value columns with labels to type category\n",
    "Find the categorical labels and change dtypes"
   ]
  },
  {
   "cell_type": "code",
   "execution_count": 594,
   "metadata": {},
   "outputs": [
    {
     "data": {
      "text/plain": [
       "1    207\n",
       "0     96\n",
       "Name: sex, dtype: int64"
      ]
     },
     "execution_count": 594,
     "metadata": {},
     "output_type": "execute_result"
    }
   ],
   "source": [
    "df['sex'].value_counts()"
   ]
  },
  {
   "cell_type": "code",
   "execution_count": 595,
   "metadata": {},
   "outputs": [
    {
     "data": {
      "text/plain": [
       "0    143\n",
       "2     87\n",
       "1     50\n",
       "3     23\n",
       "Name: chest_pain_type, dtype: int64"
      ]
     },
     "execution_count": 595,
     "metadata": {},
     "output_type": "execute_result"
    }
   ],
   "source": [
    "df['chest_pain_type'].value_counts()"
   ]
  },
  {
   "cell_type": "code",
   "execution_count": 596,
   "metadata": {},
   "outputs": [
    {
     "data": {
      "text/plain": [
       "0    258\n",
       "1     45\n",
       "Name: fasting_blood_sugar, dtype: int64"
      ]
     },
     "execution_count": 596,
     "metadata": {},
     "output_type": "execute_result"
    }
   ],
   "source": [
    "df['fasting_blood_sugar'].value_counts()"
   ]
  },
  {
   "cell_type": "code",
   "execution_count": 597,
   "metadata": {},
   "outputs": [
    {
     "data": {
      "text/plain": [
       "1    152\n",
       "0    147\n",
       "2      4\n",
       "Name: rest_ecg, dtype: int64"
      ]
     },
     "execution_count": 597,
     "metadata": {},
     "output_type": "execute_result"
    }
   ],
   "source": [
    "df['rest_ecg'].value_counts()"
   ]
  },
  {
   "cell_type": "code",
   "execution_count": 598,
   "metadata": {},
   "outputs": [
    {
     "data": {
      "text/plain": [
       "0    204\n",
       "1     99\n",
       "Name: exercise_induced_angina, dtype: int64"
      ]
     },
     "execution_count": 598,
     "metadata": {},
     "output_type": "execute_result"
    }
   ],
   "source": [
    "df['exercise_induced_angina'].value_counts()"
   ]
  },
  {
   "cell_type": "code",
   "execution_count": 599,
   "metadata": {},
   "outputs": [
    {
     "data": {
      "text/plain": [
       "2    142\n",
       "1    140\n",
       "0     21\n",
       "Name: st_slope, dtype: int64"
      ]
     },
     "execution_count": 599,
     "metadata": {},
     "output_type": "execute_result"
    }
   ],
   "source": [
    "df['st_slope'].value_counts()"
   ]
  },
  {
   "cell_type": "code",
   "execution_count": 600,
   "metadata": {},
   "outputs": [
    {
     "data": {
      "text/plain": [
       "0    175\n",
       "1     65\n",
       "2     38\n",
       "3     20\n",
       "4      5\n",
       "Name: num_major_vessels, dtype: int64"
      ]
     },
     "execution_count": 600,
     "metadata": {},
     "output_type": "execute_result"
    }
   ],
   "source": [
    "df['num_major_vessels'].value_counts()"
   ]
  },
  {
   "cell_type": "code",
   "execution_count": 601,
   "metadata": {},
   "outputs": [
    {
     "data": {
      "text/plain": [
       "2    166\n",
       "3    117\n",
       "1     18\n",
       "0      2\n",
       "Name: thalassemia, dtype: int64"
      ]
     },
     "execution_count": 601,
     "metadata": {},
     "output_type": "execute_result"
    }
   ],
   "source": [
    "df['thalassemia'].value_counts()"
   ]
  },
  {
   "cell_type": "markdown",
   "metadata": {},
   "source": [
    "### Check for class imbalance"
   ]
  },
  {
   "cell_type": "code",
   "execution_count": 602,
   "metadata": {},
   "outputs": [
    {
     "data": {
      "text/plain": [
       "1    165\n",
       "0    138\n",
       "Name: target, dtype: int64"
      ]
     },
     "execution_count": 602,
     "metadata": {},
     "output_type": "execute_result"
    }
   ],
   "source": [
    "## Get the value count for each target:\n",
    "## 1 = presence/ 0 = absence of heart disease\n",
    "\n",
    "df['target'].value_counts()"
   ]
  },
  {
   "cell_type": "code",
   "execution_count": 603,
   "metadata": {},
   "outputs": [
    {
     "data": {
      "text/plain": [
       "1    0.544554\n",
       "0    0.455446\n",
       "Name: target, dtype: float64"
      ]
     },
     "execution_count": 603,
     "metadata": {},
     "output_type": "execute_result"
    }
   ],
   "source": [
    "## Get the percentage of each class\n",
    "\n",
    "df['target'].value_counts()/len(df)"
   ]
  },
  {
   "cell_type": "markdown",
   "metadata": {},
   "source": [
    "Based on the above percentages, the heart dataset does not suffer from class imbalance"
   ]
  },
  {
   "cell_type": "code",
   "execution_count": 604,
   "metadata": {
    "collapsed": true
   },
   "outputs": [],
   "source": [
    "df['target']= df['target'].replace([1,0], ['yes', 'no'])\n",
    "df['sex']= df['sex'].replace([1,0], ['male', 'female'])"
   ]
  },
  {
   "cell_type": "code",
   "execution_count": 605,
   "metadata": {},
   "outputs": [
    {
     "data": {
      "text/plain": [
       "age                           int64\n",
       "sex                        category\n",
       "chest_pain_type            category\n",
       "resting_blood_pressure        int64\n",
       "cholesterol                   int64\n",
       "fasting_blood_sugar        category\n",
       "rest_ecg                   category\n",
       "max_heart_rate_achieved       int64\n",
       "exercise_induced_angina    category\n",
       "st_depression               float64\n",
       "st_slope                   category\n",
       "num_major_vessels          category\n",
       "thalassemia                category\n",
       "target                     category\n",
       "dtype: object"
      ]
     },
     "execution_count": 605,
     "metadata": {},
     "output_type": "execute_result"
    }
   ],
   "source": [
    "## convert the categorical value columns with labels to type category\n",
    "\n",
    "df['sex'] = df['sex'].astype('category')\n",
    "df['chest_pain_type'] = df['chest_pain_type'].astype('category')\n",
    "df['fasting_blood_sugar'] = df['fasting_blood_sugar'].astype('category')\n",
    "df['rest_ecg'] = df['rest_ecg'].astype('category')\n",
    "df['exercise_induced_angina'] = df['exercise_induced_angina'].astype('category')\n",
    "df['st_slope'] = df['st_slope'].astype('category')\n",
    "df['num_major_vessels'] = df['num_major_vessels'].astype('category')\n",
    "df['thalassemia'] = df['thalassemia'].astype('category')\n",
    "df['target'] = df['target'].astype('category')\n",
    "\n",
    "df.dtypes"
   ]
  },
  {
   "cell_type": "code",
   "execution_count": 606,
   "metadata": {},
   "outputs": [
    {
     "data": {
      "text/html": [
       "<div>\n",
       "<style>\n",
       "    .dataframe thead tr:only-child th {\n",
       "        text-align: right;\n",
       "    }\n",
       "\n",
       "    .dataframe thead th {\n",
       "        text-align: left;\n",
       "    }\n",
       "\n",
       "    .dataframe tbody tr th {\n",
       "        vertical-align: top;\n",
       "    }\n",
       "</style>\n",
       "<table border=\"1\" class=\"dataframe\">\n",
       "  <thead>\n",
       "    <tr style=\"text-align: right;\">\n",
       "      <th></th>\n",
       "      <th>age</th>\n",
       "      <th>sex</th>\n",
       "      <th>chest_pain_type</th>\n",
       "      <th>resting_blood_pressure</th>\n",
       "      <th>cholesterol</th>\n",
       "      <th>fasting_blood_sugar</th>\n",
       "      <th>rest_ecg</th>\n",
       "      <th>max_heart_rate_achieved</th>\n",
       "      <th>exercise_induced_angina</th>\n",
       "      <th>st_depression</th>\n",
       "      <th>st_slope</th>\n",
       "      <th>num_major_vessels</th>\n",
       "      <th>thalassemia</th>\n",
       "      <th>target</th>\n",
       "    </tr>\n",
       "  </thead>\n",
       "  <tbody>\n",
       "    <tr>\n",
       "      <th>0</th>\n",
       "      <td>63</td>\n",
       "      <td>male</td>\n",
       "      <td>3</td>\n",
       "      <td>145</td>\n",
       "      <td>233</td>\n",
       "      <td>1</td>\n",
       "      <td>0</td>\n",
       "      <td>150</td>\n",
       "      <td>0</td>\n",
       "      <td>2.3</td>\n",
       "      <td>0</td>\n",
       "      <td>0</td>\n",
       "      <td>1</td>\n",
       "      <td>yes</td>\n",
       "    </tr>\n",
       "    <tr>\n",
       "      <th>1</th>\n",
       "      <td>37</td>\n",
       "      <td>male</td>\n",
       "      <td>2</td>\n",
       "      <td>130</td>\n",
       "      <td>250</td>\n",
       "      <td>0</td>\n",
       "      <td>1</td>\n",
       "      <td>187</td>\n",
       "      <td>0</td>\n",
       "      <td>3.5</td>\n",
       "      <td>0</td>\n",
       "      <td>0</td>\n",
       "      <td>2</td>\n",
       "      <td>yes</td>\n",
       "    </tr>\n",
       "    <tr>\n",
       "      <th>2</th>\n",
       "      <td>41</td>\n",
       "      <td>female</td>\n",
       "      <td>1</td>\n",
       "      <td>130</td>\n",
       "      <td>204</td>\n",
       "      <td>0</td>\n",
       "      <td>0</td>\n",
       "      <td>172</td>\n",
       "      <td>0</td>\n",
       "      <td>1.4</td>\n",
       "      <td>2</td>\n",
       "      <td>0</td>\n",
       "      <td>2</td>\n",
       "      <td>yes</td>\n",
       "    </tr>\n",
       "    <tr>\n",
       "      <th>3</th>\n",
       "      <td>56</td>\n",
       "      <td>male</td>\n",
       "      <td>1</td>\n",
       "      <td>120</td>\n",
       "      <td>236</td>\n",
       "      <td>0</td>\n",
       "      <td>1</td>\n",
       "      <td>178</td>\n",
       "      <td>0</td>\n",
       "      <td>0.8</td>\n",
       "      <td>2</td>\n",
       "      <td>0</td>\n",
       "      <td>2</td>\n",
       "      <td>yes</td>\n",
       "    </tr>\n",
       "    <tr>\n",
       "      <th>4</th>\n",
       "      <td>57</td>\n",
       "      <td>female</td>\n",
       "      <td>0</td>\n",
       "      <td>120</td>\n",
       "      <td>354</td>\n",
       "      <td>0</td>\n",
       "      <td>1</td>\n",
       "      <td>163</td>\n",
       "      <td>1</td>\n",
       "      <td>0.6</td>\n",
       "      <td>2</td>\n",
       "      <td>0</td>\n",
       "      <td>2</td>\n",
       "      <td>yes</td>\n",
       "    </tr>\n",
       "  </tbody>\n",
       "</table>\n",
       "</div>"
      ],
      "text/plain": [
       "   age     sex chest_pain_type  resting_blood_pressure  cholesterol  \\\n",
       "0   63    male               3                     145          233   \n",
       "1   37    male               2                     130          250   \n",
       "2   41  female               1                     130          204   \n",
       "3   56    male               1                     120          236   \n",
       "4   57  female               0                     120          354   \n",
       "\n",
       "  fasting_blood_sugar rest_ecg  max_heart_rate_achieved  \\\n",
       "0                   1        0                      150   \n",
       "1                   0        1                      187   \n",
       "2                   0        0                      172   \n",
       "3                   0        1                      178   \n",
       "4                   0        1                      163   \n",
       "\n",
       "  exercise_induced_angina  st_depression st_slope num_major_vessels  \\\n",
       "0                       0            2.3        0                 0   \n",
       "1                       0            3.5        0                 0   \n",
       "2                       0            1.4        2                 0   \n",
       "3                       0            0.8        2                 0   \n",
       "4                       1            0.6        2                 0   \n",
       "\n",
       "  thalassemia target  \n",
       "0           1    yes  \n",
       "1           2    yes  \n",
       "2           2    yes  \n",
       "3           2    yes  \n",
       "4           2    yes  "
      ]
     },
     "execution_count": 606,
     "metadata": {},
     "output_type": "execute_result"
    }
   ],
   "source": [
    "df.head()"
   ]
  },
  {
   "cell_type": "markdown",
   "metadata": {},
   "source": [
    "### Chi-Squared test\n",
    "\n",
    "The chi-squared statistical hypothesis test is used for quantifying the independence of pairs of categorical variables. The chi-squared test is used to determine whether there is a significant difference between the expected frequencies and the observed frequencies in one or more categories.\n",
    "\n",
    "Hypothesis:\n",
    "* Null Hypothesis(H0) : There is no relationship between 2 categorical variables. i.e they are independent of each other\n",
    "* H1 : There is a relationship between 2 categorical variables. i.e they are dependent on each other.\n",
    "\n",
    "A low p-value, below the chosen significance level, indicates statistical significance, i.e., sufficient evidence to reject the null hypothesis.\n",
    "A significance level (alpha value) of 0.05 is often used as the cutoff between significant and not-significant results.\n",
    "https://en.wikipedia.org/wiki/Chi-squared_distribution#Table_of_χ2_values_vs_p-values\n",
    "\n"
   ]
  },
  {
   "cell_type": "code",
   "execution_count": 607,
   "metadata": {},
   "outputs": [
    {
     "name": "stdout",
     "output_type": "stream",
     "text": [
      "contingency_table:\n",
      " target   no  yes\n",
      "sex             \n",
      "female   24   72\n",
      "male    114   93\n"
     ]
    }
   ],
   "source": [
    "# Contingency Table for 2 variables: target and sex\n",
    "\n",
    "df_sex = df[['sex','target']]\n",
    "contingency_tbl_sex=pd.crosstab(df_sex[\"sex\"], df_sex[\"target\"])\n",
    "print('contingency_table:\\n',contingency_tbl_sex)\n"
   ]
  },
  {
   "cell_type": "code",
   "execution_count": 608,
   "metadata": {},
   "outputs": [
    {
     "name": "stdout",
     "output_type": "stream",
     "text": [
      "Observed Values:\n",
      " [[ 24  72]\n",
      " [114  93]]\n"
     ]
    }
   ],
   "source": [
    "# Observed Values\n",
    "Observed_Values = contingency_tbl_sex.values \n",
    "print(\"Observed Values:\\n\",Observed_Values)"
   ]
  },
  {
   "cell_type": "code",
   "execution_count": 609,
   "metadata": {},
   "outputs": [
    {
     "name": "stdout",
     "output_type": "stream",
     "text": [
      "Expected Values: \n",
      " [[  43.72277228   52.27722772]\n",
      " [  94.27722772  112.72277228]]\n"
     ]
    }
   ],
   "source": [
    "# Expected Values\n",
    "import scipy.stats\n",
    "b=scipy.stats.chi2_contingency(contingency_tbl_sex)\n",
    "\n",
    "Expected_Values = b[3]\n",
    "print(\"Expected Values: \\n\",Expected_Values)"
   ]
  },
  {
   "cell_type": "code",
   "execution_count": 610,
   "metadata": {},
   "outputs": [
    {
     "name": "stdout",
     "output_type": "stream",
     "text": [
      "Degree of Freedom:  1\n"
     ]
    }
   ],
   "source": [
    "# Degree of Freedom\n",
    "no_of_rows=len(contingency_tbl_sex.iloc[0:2,0])\n",
    "no_of_columns=len(contingency_tbl_sex.iloc[0,0:2])\n",
    "dof=(no_of_rows-1)*(no_of_columns-1)\n",
    "print(\"Degree of Freedom: \",dof)"
   ]
  },
  {
   "cell_type": "code",
   "execution_count": 611,
   "metadata": {},
   "outputs": [
    {
     "name": "stdout",
     "output_type": "stream",
     "text": [
      "chi-square statistic: 23.9143839148\n"
     ]
    }
   ],
   "source": [
    "# Significance Level 5%\n",
    "alpha=0.05\n",
    "\n",
    "# chi-square statistic - χ2\n",
    "from scipy.stats import chi2\n",
    "\n",
    "chi_square = sum([(o-e)**2./e for o,e in zip(Observed_Values,Expected_Values)])\n",
    "chi_square_statistic = chi_square[0] + chi_square[1]\n",
    "\n",
    "print(\"chi-square statistic:\",chi_square_statistic)"
   ]
  },
  {
   "cell_type": "code",
   "execution_count": 612,
   "metadata": {},
   "outputs": [
    {
     "name": "stdout",
     "output_type": "stream",
     "text": [
      "critical_value: 3.84145882069\n"
     ]
    }
   ],
   "source": [
    "# critical_value\n",
    "critical_value = chi2.ppf( q=1-alpha, df=dof)\n",
    "print('critical_value:',critical_value)"
   ]
  },
  {
   "cell_type": "code",
   "execution_count": 613,
   "metadata": {},
   "outputs": [
    {
     "name": "stdout",
     "output_type": "stream",
     "text": [
      "p-value: 1.00716420337e-06\n"
     ]
    }
   ],
   "source": [
    "# p-value\n",
    "p_value= 1 - chi2.cdf(x = chi_square_statistic, df=dof)\n",
    "print('p-value:',p_value)"
   ]
  },
  {
   "cell_type": "code",
   "execution_count": 614,
   "metadata": {},
   "outputs": [
    {
     "name": "stdout",
     "output_type": "stream",
     "text": [
      "Significance level:  0.05\n",
      "Degree of Freedom:  1\n",
      "chi-square statistic: 23.9143839148\n",
      "critical_value: 3.84145882069\n",
      "p-value: 1.00716420337e-06\n"
     ]
    }
   ],
   "source": [
    "print('Significance level: ',alpha)\n",
    "print('Degree of Freedom: ', dof)\n",
    "print('chi-square statistic:',chi_square_statistic)\n",
    "print('critical_value:',critical_value)\n",
    "print('p-value:',p_value)"
   ]
  },
  {
   "cell_type": "code",
   "execution_count": 615,
   "metadata": {},
   "outputs": [
    {
     "name": "stdout",
     "output_type": "stream",
     "text": [
      "Reject Null hypothesis, There is a relationship between 2 categorical variables\n",
      "Reject Null hypothesis, There is a relationship between 2 categorical variables\n"
     ]
    }
   ],
   "source": [
    "# compare chi_square_statistic with critical_value \n",
    "# compare p-value to significant value of 0.05, \n",
    "# the lower the p-value indicates statistical significance to reject the null hypothesis\n",
    "\n",
    "if p_value <= alpha:\n",
    "    print(\"Reject Null hypothesis, There is a relationship between 2 categorical variables\")\n",
    "else:\n",
    "    print(\"Retain Null hypothesis, There is no relationship between 2 categorical variables\")\n",
    "    \n",
    "if chi_square_statistic >= critical_value:\n",
    "    print(\"Reject Null hypothesis, There is a relationship between 2 categorical variables\")\n",
    "else:\n",
    "    print(\"Retain Null hypothesis, There is no relationship between 2 categorical variables\")\n",
    "    \n"
   ]
  },
  {
   "cell_type": "markdown",
   "metadata": {},
   "source": [
    "### Get relationship between different  variables \n",
    "* Define a function to get chi_square test metrics\n",
    "* Calculate relationship between target and each of the 13 variables\n"
   ]
  },
  {
   "cell_type": "code",
   "execution_count": 616,
   "metadata": {
    "collapsed": true
   },
   "outputs": [],
   "source": [
    "from scipy.stats import chi2_contingency\n",
    "from scipy.stats import chi2\n",
    "\n",
    "def chi_square_test(contingency_table, var):\n",
    "    \n",
    "    related = False\n",
    "    \n",
    "    # Observed Values\n",
    "    Observed_Values = contingency_table.values \n",
    "    #print(\"\\n Observed Values:\\n\",Observed_Values)\n",
    "    \n",
    "    chi_square, p_val, dof, ex = scipy.stats.chi2_contingency(contingency_table)\n",
    "    \n",
    "    # Expected Values\n",
    "    Expected_Values = ex\n",
    "    #print(\"\\n Expected Values: \\n\",Expected_Values)\n",
    "\n",
    "    # Significance Level 5%\n",
    "    alpha=0.05\n",
    "    \n",
    "    # critical_value : percent point function\n",
    "    critical_value = chi2.ppf( q=1-alpha, df=dof)\n",
    "    \n",
    "    print('\\nSignificance level: ',alpha)\n",
    "    print('Degree of Freedom: ', dof)\n",
    "    print('chi-square statistic:', chi_square)\n",
    "    print('p-value:', p_val)\n",
    "    print('critical_value:',critical_value)\n",
    "    \n",
    "    if p_val <= alpha:\n",
    "        print(\"Reject Null Hypothesis -> There is a relationship between 2 variables\")\n",
    "        related = True\n",
    "    else:\n",
    "        print(\"Retain Null Hypothesis -> There is no relationship between 2 variables\")\n",
    "        \n",
    "    if chi_square >= critical_value:\n",
    "        print(\"Reject Null Hypothesis -> There is a relationship between 2 variables\")\n",
    "        related = True\n",
    "    else:\n",
    "        print(\"Retain Null Hypothesis -> There is no relationship between 2 variables\")\n",
    "          \n",
    "    print(\"\\n\")\n",
    "    return related\n",
    "    "
   ]
  },
  {
   "cell_type": "code",
   "execution_count": 617,
   "metadata": {
    "scrolled": true
   },
   "outputs": [
    {
     "name": "stdout",
     "output_type": "stream",
     "text": [
      "['age', 'sex', 'chest_pain_type', 'resting_blood_pressure', 'cholesterol', 'fasting_blood_sugar', 'rest_ecg', 'max_heart_rate_achieved', 'exercise_induced_angina', 'st_depression', 'st_slope', 'num_major_vessels', 'thalassemia']\n",
      "\n",
      " ==> chi_square_test results between variables: target and age\n",
      "\n",
      "Significance level:  0.05\n",
      "Degree of Freedom:  40\n",
      "chi-square statistic: 50.129214652\n",
      "p-value: 0.130912188008\n",
      "critical_value: 55.7584792789\n",
      "Retain Null Hypothesis -> There is no relationship between 2 variables\n",
      "Retain Null Hypothesis -> There is no relationship between 2 variables\n",
      "\n",
      "\n",
      "Variables with dependency relationship to target:  []\n",
      "============================\n",
      "\n",
      "\n",
      " ==> chi_square_test results between variables: target and sex\n",
      "\n",
      "Significance level:  0.05\n",
      "Degree of Freedom:  1\n",
      "chi-square statistic: 22.7172270466\n",
      "p-value: 1.87677762169e-06\n",
      "critical_value: 3.84145882069\n",
      "Reject Null Hypothesis -> There is a relationship between 2 variables\n",
      "Reject Null Hypothesis -> There is a relationship between 2 variables\n",
      "\n",
      "\n",
      "Variables with dependency relationship to target:  ['sex']\n",
      "============================\n",
      "\n",
      "\n",
      " ==> chi_square_test results between variables: target and chest_pain_type\n",
      "\n",
      "Significance level:  0.05\n",
      "Degree of Freedom:  3\n",
      "chi-square statistic: 81.6864275519\n",
      "p-value: 1.33430433731e-17\n",
      "critical_value: 7.81472790325\n",
      "Reject Null Hypothesis -> There is a relationship between 2 variables\n",
      "Reject Null Hypothesis -> There is a relationship between 2 variables\n",
      "\n",
      "\n",
      "Variables with dependency relationship to target:  ['sex', 'chest_pain_type']\n",
      "============================\n",
      "\n",
      "\n",
      " ==> chi_square_test results between variables: target and resting_blood_pressure\n",
      "\n",
      "Significance level:  0.05\n",
      "Degree of Freedom:  48\n",
      "chi-square statistic: 47.7058177008\n",
      "p-value: 0.484821310154\n",
      "critical_value: 65.1707689036\n",
      "Retain Null Hypothesis -> There is no relationship between 2 variables\n",
      "Retain Null Hypothesis -> There is no relationship between 2 variables\n",
      "\n",
      "\n",
      "Variables with dependency relationship to target:  ['sex', 'chest_pain_type']\n",
      "============================\n",
      "\n",
      "\n",
      " ==> chi_square_test results between variables: target and cholesterol\n",
      "\n",
      "Significance level:  0.05\n",
      "Degree of Freedom:  151\n",
      "chi-square statistic: 173.101890646\n",
      "p-value: 0.10519229982\n",
      "critical_value: 180.675597428\n",
      "Retain Null Hypothesis -> There is no relationship between 2 variables\n",
      "Retain Null Hypothesis -> There is no relationship between 2 variables\n",
      "\n",
      "\n",
      "Variables with dependency relationship to target:  ['sex', 'chest_pain_type']\n",
      "============================\n",
      "\n",
      "\n",
      " ==> chi_square_test results between variables: target and fasting_blood_sugar\n",
      "\n",
      "Significance level:  0.05\n",
      "Degree of Freedom:  1\n",
      "chi-square statistic: 0.106272763019\n",
      "p-value: 0.744428111415\n",
      "critical_value: 3.84145882069\n",
      "Retain Null Hypothesis -> There is no relationship between 2 variables\n",
      "Retain Null Hypothesis -> There is no relationship between 2 variables\n",
      "\n",
      "\n",
      "Variables with dependency relationship to target:  ['sex', 'chest_pain_type']\n",
      "============================\n",
      "\n",
      "\n",
      " ==> chi_square_test results between variables: target and rest_ecg\n",
      "\n",
      "Significance level:  0.05\n",
      "Degree of Freedom:  2\n",
      "chi-square statistic: 10.0230917851\n",
      "p-value: 0.0066605987735\n",
      "critical_value: 5.99146454711\n",
      "Reject Null Hypothesis -> There is a relationship between 2 variables\n",
      "Reject Null Hypothesis -> There is a relationship between 2 variables\n",
      "\n",
      "\n",
      "Variables with dependency relationship to target:  ['sex', 'chest_pain_type', 'rest_ecg']\n",
      "============================\n",
      "\n",
      "\n",
      " ==> chi_square_test results between variables: target and max_heart_rate_achieved\n",
      "\n",
      "Significance level:  0.05\n",
      "Degree of Freedom:  90\n",
      "chi-square statistic: 110.134952832\n",
      "p-value: 0.0734783741909\n",
      "critical_value: 113.145270143\n",
      "Retain Null Hypothesis -> There is no relationship between 2 variables\n",
      "Retain Null Hypothesis -> There is no relationship between 2 variables\n",
      "\n",
      "\n",
      "Variables with dependency relationship to target:  ['sex', 'chest_pain_type', 'rest_ecg']\n",
      "============================\n",
      "\n",
      "\n",
      " ==> chi_square_test results between variables: target and exercise_induced_angina\n",
      "\n",
      "Significance level:  0.05\n",
      "Degree of Freedom:  1\n",
      "chi-square statistic: 55.9445499667\n",
      "p-value: 7.45440933124e-14\n",
      "critical_value: 3.84145882069\n",
      "Reject Null Hypothesis -> There is a relationship between 2 variables\n",
      "Reject Null Hypothesis -> There is a relationship between 2 variables\n",
      "\n",
      "\n",
      "Variables with dependency relationship to target:  ['sex', 'chest_pain_type', 'rest_ecg', 'exercise_induced_angina']\n",
      "============================\n",
      "\n",
      "\n",
      " ==> chi_square_test results between variables: target and st_depression\n",
      "\n",
      "Significance level:  0.05\n",
      "Degree of Freedom:  39\n",
      "chi-square statistic: 89.4327592727\n",
      "p-value: 7.80298138646e-06\n",
      "critical_value: 54.5722277589\n",
      "Reject Null Hypothesis -> There is a relationship between 2 variables\n",
      "Reject Null Hypothesis -> There is a relationship between 2 variables\n",
      "\n",
      "\n",
      "Variables with dependency relationship to target:  ['sex', 'chest_pain_type', 'rest_ecg', 'exercise_induced_angina', 'st_depression']\n",
      "============================\n",
      "\n",
      "\n",
      " ==> chi_square_test results between variables: target and st_slope\n",
      "\n",
      "Significance level:  0.05\n",
      "Degree of Freedom:  2\n",
      "chi-square statistic: 47.506896756\n",
      "p-value: 4.83068193428e-11\n",
      "critical_value: 5.99146454711\n",
      "Reject Null Hypothesis -> There is a relationship between 2 variables\n",
      "Reject Null Hypothesis -> There is a relationship between 2 variables\n",
      "\n",
      "\n",
      "Variables with dependency relationship to target:  ['sex', 'chest_pain_type', 'rest_ecg', 'exercise_induced_angina', 'st_depression', 'st_slope']\n",
      "============================\n",
      "\n",
      "\n",
      " ==> chi_square_test results between variables: target and num_major_vessels\n",
      "\n",
      "Significance level:  0.05\n",
      "Degree of Freedom:  4\n",
      "chi-square statistic: 74.366630612\n",
      "p-value: 2.71247021196e-15\n",
      "critical_value: 9.48772903678\n",
      "Reject Null Hypothesis -> There is a relationship between 2 variables\n",
      "Reject Null Hypothesis -> There is a relationship between 2 variables\n",
      "\n",
      "\n",
      "Variables with dependency relationship to target:  ['sex', 'chest_pain_type', 'rest_ecg', 'exercise_induced_angina', 'st_depression', 'st_slope', 'num_major_vessels']\n",
      "============================\n",
      "\n",
      "\n",
      " ==> chi_square_test results between variables: target and thalassemia\n",
      "\n",
      "Significance level:  0.05\n",
      "Degree of Freedom:  3\n",
      "chi-square statistic: 85.3037395147\n",
      "p-value: 2.23335072101e-18\n",
      "critical_value: 7.81472790325\n",
      "Reject Null Hypothesis -> There is a relationship between 2 variables\n",
      "Reject Null Hypothesis -> There is a relationship between 2 variables\n",
      "\n",
      "\n",
      "Variables with dependency relationship to target:  ['sex', 'chest_pain_type', 'rest_ecg', 'exercise_induced_angina', 'st_depression', 'st_slope', 'num_major_vessels', 'thalassemia']\n",
      "============================\n",
      "\n"
     ]
    }
   ],
   "source": [
    "# Determine relationship between target and each of 13 variables\n",
    "\n",
    "feature_list = [x for x in df.columns if x != 'target']\n",
    "print(feature_list)\n",
    "dep_vars = []\n",
    "for feature in feature_list:\n",
    "    df_feature = df[[feature,'target']]\n",
    "\n",
    "    print(\"\\n ==> chi_square_test results between variables: target and \" + feature)\n",
    "    contingency_tbl = pd.crosstab(df_feature[feature], df_feature[\"target\"])\n",
    "    result = chi_square_test(contingency_tbl, feature)\n",
    "    if result:\n",
    "        dep_vars.append(feature)\n",
    "        \n",
    "    print(\"Variables with dependency relationship to target: \", dep_vars)\n",
    "    print(\"============================\\n\")\n",
    "    "
   ]
  },
  {
   "cell_type": "markdown",
   "metadata": {},
   "source": [
    "### Prepare, train and test the models"
   ]
  },
  {
   "cell_type": "code",
   "execution_count": 618,
   "metadata": {
    "collapsed": true
   },
   "outputs": [],
   "source": [
    "# prepare models\n",
    "from sklearn.linear_model import LogisticRegression\n",
    "from sklearn.neighbors import KNeighborsClassifier\n",
    "from sklearn.tree import DecisionTreeClassifier\n",
    "from sklearn.ensemble import RandomForestClassifier\n",
    "from sklearn.naive_bayes import GaussianNB\n",
    "\n",
    "from sklearn import model_selection\n",
    "from sklearn.model_selection import KFold, cross_val_score\n",
    "from sklearn.model_selection import train_test_split, GridSearchCV\n",
    "\n",
    "from sklearn.metrics import confusion_matrix, accuracy_score, f1_score\n",
    "from sklearn.metrics import classification_report\n",
    "from sklearn.metrics import mean_squared_error,precision_score, recall_score, auc,roc_curve\n"
   ]
  },
  {
   "cell_type": "code",
   "execution_count": 619,
   "metadata": {},
   "outputs": [
    {
     "data": {
      "text/html": [
       "<div>\n",
       "<style>\n",
       "    .dataframe thead tr:only-child th {\n",
       "        text-align: right;\n",
       "    }\n",
       "\n",
       "    .dataframe thead th {\n",
       "        text-align: left;\n",
       "    }\n",
       "\n",
       "    .dataframe tbody tr th {\n",
       "        vertical-align: top;\n",
       "    }\n",
       "</style>\n",
       "<table border=\"1\" class=\"dataframe\">\n",
       "  <thead>\n",
       "    <tr style=\"text-align: right;\">\n",
       "      <th></th>\n",
       "      <th>age</th>\n",
       "      <th>chest_pain_type</th>\n",
       "      <th>resting_blood_pressure</th>\n",
       "      <th>cholesterol</th>\n",
       "      <th>fasting_blood_sugar</th>\n",
       "      <th>rest_ecg</th>\n",
       "      <th>max_heart_rate_achieved</th>\n",
       "      <th>exercise_induced_angina</th>\n",
       "      <th>st_depression</th>\n",
       "      <th>st_slope</th>\n",
       "      <th>num_major_vessels</th>\n",
       "      <th>thalassemia</th>\n",
       "      <th>sex_male</th>\n",
       "      <th>target_yes</th>\n",
       "    </tr>\n",
       "  </thead>\n",
       "  <tbody>\n",
       "    <tr>\n",
       "      <th>0</th>\n",
       "      <td>63</td>\n",
       "      <td>3</td>\n",
       "      <td>145</td>\n",
       "      <td>233</td>\n",
       "      <td>1</td>\n",
       "      <td>0</td>\n",
       "      <td>150</td>\n",
       "      <td>0</td>\n",
       "      <td>2.3</td>\n",
       "      <td>0</td>\n",
       "      <td>0</td>\n",
       "      <td>1</td>\n",
       "      <td>1</td>\n",
       "      <td>1</td>\n",
       "    </tr>\n",
       "    <tr>\n",
       "      <th>1</th>\n",
       "      <td>37</td>\n",
       "      <td>2</td>\n",
       "      <td>130</td>\n",
       "      <td>250</td>\n",
       "      <td>0</td>\n",
       "      <td>1</td>\n",
       "      <td>187</td>\n",
       "      <td>0</td>\n",
       "      <td>3.5</td>\n",
       "      <td>0</td>\n",
       "      <td>0</td>\n",
       "      <td>2</td>\n",
       "      <td>1</td>\n",
       "      <td>1</td>\n",
       "    </tr>\n",
       "    <tr>\n",
       "      <th>2</th>\n",
       "      <td>41</td>\n",
       "      <td>1</td>\n",
       "      <td>130</td>\n",
       "      <td>204</td>\n",
       "      <td>0</td>\n",
       "      <td>0</td>\n",
       "      <td>172</td>\n",
       "      <td>0</td>\n",
       "      <td>1.4</td>\n",
       "      <td>2</td>\n",
       "      <td>0</td>\n",
       "      <td>2</td>\n",
       "      <td>0</td>\n",
       "      <td>1</td>\n",
       "    </tr>\n",
       "    <tr>\n",
       "      <th>3</th>\n",
       "      <td>56</td>\n",
       "      <td>1</td>\n",
       "      <td>120</td>\n",
       "      <td>236</td>\n",
       "      <td>0</td>\n",
       "      <td>1</td>\n",
       "      <td>178</td>\n",
       "      <td>0</td>\n",
       "      <td>0.8</td>\n",
       "      <td>2</td>\n",
       "      <td>0</td>\n",
       "      <td>2</td>\n",
       "      <td>1</td>\n",
       "      <td>1</td>\n",
       "    </tr>\n",
       "    <tr>\n",
       "      <th>4</th>\n",
       "      <td>57</td>\n",
       "      <td>0</td>\n",
       "      <td>120</td>\n",
       "      <td>354</td>\n",
       "      <td>0</td>\n",
       "      <td>1</td>\n",
       "      <td>163</td>\n",
       "      <td>1</td>\n",
       "      <td>0.6</td>\n",
       "      <td>2</td>\n",
       "      <td>0</td>\n",
       "      <td>2</td>\n",
       "      <td>0</td>\n",
       "      <td>1</td>\n",
       "    </tr>\n",
       "  </tbody>\n",
       "</table>\n",
       "</div>"
      ],
      "text/plain": [
       "   age chest_pain_type  resting_blood_pressure  cholesterol  \\\n",
       "0   63               3                     145          233   \n",
       "1   37               2                     130          250   \n",
       "2   41               1                     130          204   \n",
       "3   56               1                     120          236   \n",
       "4   57               0                     120          354   \n",
       "\n",
       "  fasting_blood_sugar rest_ecg  max_heart_rate_achieved  \\\n",
       "0                   1        0                      150   \n",
       "1                   0        1                      187   \n",
       "2                   0        0                      172   \n",
       "3                   0        1                      178   \n",
       "4                   0        1                      163   \n",
       "\n",
       "  exercise_induced_angina  st_depression st_slope num_major_vessels  \\\n",
       "0                       0            2.3        0                 0   \n",
       "1                       0            3.5        0                 0   \n",
       "2                       0            1.4        2                 0   \n",
       "3                       0            0.8        2                 0   \n",
       "4                       1            0.6        2                 0   \n",
       "\n",
       "  thalassemia  sex_male  target_yes  \n",
       "0           1         1           1  \n",
       "1           2         1           1  \n",
       "2           2         0           1  \n",
       "3           2         1           1  \n",
       "4           2         0           1  "
      ]
     },
     "execution_count": 619,
     "metadata": {},
     "output_type": "execute_result"
    }
   ],
   "source": [
    "# One hot encoding\n",
    "df = pd.get_dummies(df, columns=[\"sex\",\"target\"], drop_first=True)\n",
    "df.head()"
   ]
  },
  {
   "cell_type": "code",
   "execution_count": 620,
   "metadata": {},
   "outputs": [
    {
     "data": {
      "text/html": [
       "<div>\n",
       "<style>\n",
       "    .dataframe thead tr:only-child th {\n",
       "        text-align: right;\n",
       "    }\n",
       "\n",
       "    .dataframe thead th {\n",
       "        text-align: left;\n",
       "    }\n",
       "\n",
       "    .dataframe tbody tr th {\n",
       "        vertical-align: top;\n",
       "    }\n",
       "</style>\n",
       "<table border=\"1\" class=\"dataframe\">\n",
       "  <thead>\n",
       "    <tr style=\"text-align: right;\">\n",
       "      <th></th>\n",
       "      <th>age</th>\n",
       "      <th>chest_pain_type</th>\n",
       "      <th>resting_blood_pressure</th>\n",
       "      <th>cholesterol</th>\n",
       "      <th>fasting_blood_sugar</th>\n",
       "      <th>rest_ecg</th>\n",
       "      <th>max_heart_rate_achieved</th>\n",
       "      <th>exercise_induced_angina</th>\n",
       "      <th>st_depression</th>\n",
       "      <th>st_slope</th>\n",
       "      <th>num_major_vessels</th>\n",
       "      <th>thalassemia</th>\n",
       "      <th>sex_male</th>\n",
       "    </tr>\n",
       "  </thead>\n",
       "  <tbody>\n",
       "    <tr>\n",
       "      <th>0</th>\n",
       "      <td>63</td>\n",
       "      <td>3</td>\n",
       "      <td>145</td>\n",
       "      <td>233</td>\n",
       "      <td>1</td>\n",
       "      <td>0</td>\n",
       "      <td>150</td>\n",
       "      <td>0</td>\n",
       "      <td>2.3</td>\n",
       "      <td>0</td>\n",
       "      <td>0</td>\n",
       "      <td>1</td>\n",
       "      <td>1</td>\n",
       "    </tr>\n",
       "    <tr>\n",
       "      <th>1</th>\n",
       "      <td>37</td>\n",
       "      <td>2</td>\n",
       "      <td>130</td>\n",
       "      <td>250</td>\n",
       "      <td>0</td>\n",
       "      <td>1</td>\n",
       "      <td>187</td>\n",
       "      <td>0</td>\n",
       "      <td>3.5</td>\n",
       "      <td>0</td>\n",
       "      <td>0</td>\n",
       "      <td>2</td>\n",
       "      <td>1</td>\n",
       "    </tr>\n",
       "    <tr>\n",
       "      <th>2</th>\n",
       "      <td>41</td>\n",
       "      <td>1</td>\n",
       "      <td>130</td>\n",
       "      <td>204</td>\n",
       "      <td>0</td>\n",
       "      <td>0</td>\n",
       "      <td>172</td>\n",
       "      <td>0</td>\n",
       "      <td>1.4</td>\n",
       "      <td>2</td>\n",
       "      <td>0</td>\n",
       "      <td>2</td>\n",
       "      <td>0</td>\n",
       "    </tr>\n",
       "    <tr>\n",
       "      <th>3</th>\n",
       "      <td>56</td>\n",
       "      <td>1</td>\n",
       "      <td>120</td>\n",
       "      <td>236</td>\n",
       "      <td>0</td>\n",
       "      <td>1</td>\n",
       "      <td>178</td>\n",
       "      <td>0</td>\n",
       "      <td>0.8</td>\n",
       "      <td>2</td>\n",
       "      <td>0</td>\n",
       "      <td>2</td>\n",
       "      <td>1</td>\n",
       "    </tr>\n",
       "    <tr>\n",
       "      <th>4</th>\n",
       "      <td>57</td>\n",
       "      <td>0</td>\n",
       "      <td>120</td>\n",
       "      <td>354</td>\n",
       "      <td>0</td>\n",
       "      <td>1</td>\n",
       "      <td>163</td>\n",
       "      <td>1</td>\n",
       "      <td>0.6</td>\n",
       "      <td>2</td>\n",
       "      <td>0</td>\n",
       "      <td>2</td>\n",
       "      <td>0</td>\n",
       "    </tr>\n",
       "  </tbody>\n",
       "</table>\n",
       "</div>"
      ],
      "text/plain": [
       "   age chest_pain_type  resting_blood_pressure  cholesterol  \\\n",
       "0   63               3                     145          233   \n",
       "1   37               2                     130          250   \n",
       "2   41               1                     130          204   \n",
       "3   56               1                     120          236   \n",
       "4   57               0                     120          354   \n",
       "\n",
       "  fasting_blood_sugar rest_ecg  max_heart_rate_achieved  \\\n",
       "0                   1        0                      150   \n",
       "1                   0        1                      187   \n",
       "2                   0        0                      172   \n",
       "3                   0        1                      178   \n",
       "4                   0        1                      163   \n",
       "\n",
       "  exercise_induced_angina  st_depression st_slope num_major_vessels  \\\n",
       "0                       0            2.3        0                 0   \n",
       "1                       0            3.5        0                 0   \n",
       "2                       0            1.4        2                 0   \n",
       "3                       0            0.8        2                 0   \n",
       "4                       1            0.6        2                 0   \n",
       "\n",
       "  thalassemia  sex_male  \n",
       "0           1         1  \n",
       "1           2         1  \n",
       "2           2         0  \n",
       "3           2         1  \n",
       "4           2         0  "
      ]
     },
     "execution_count": 620,
     "metadata": {},
     "output_type": "execute_result"
    }
   ],
   "source": [
    "## Split the data into training and testing \n",
    "# Target value\n",
    "y = df['target_yes']\n",
    "\n",
    "# all columns except the target\n",
    "X = df.drop('target_yes', 1)\n",
    "\n",
    "X.head()"
   ]
  },
  {
   "cell_type": "code",
   "execution_count": 621,
   "metadata": {},
   "outputs": [
    {
     "name": "stdout",
     "output_type": "stream",
     "text": [
      "(242, 13)\n",
      "(61, 13)\n",
      "(242,)\n",
      "(61,)\n"
     ]
    }
   ],
   "source": [
    "## Split the data into training and testing \n",
    "X_train, X_test, y_train, y_test = train_test_split(X, y, test_size = 0.2,random_state=456) \n",
    "\n",
    "print(X_train.shape)\n",
    "print(X_test.shape)\n",
    "print(y_train.shape)\n",
    "print(y_test.shape)"
   ]
  },
  {
   "cell_type": "markdown",
   "metadata": {},
   "source": [
    "### Random Forest Classifier\n",
    "* Train and Predict"
   ]
  },
  {
   "cell_type": "code",
   "execution_count": 622,
   "metadata": {},
   "outputs": [
    {
     "data": {
      "text/plain": [
       "RandomForestClassifier(bootstrap=True, class_weight=None, criterion='gini',\n",
       "            max_depth=None, max_features='auto', max_leaf_nodes=None,\n",
       "            min_impurity_decrease=0.0, min_impurity_split=None,\n",
       "            min_samples_leaf=1, min_samples_split=2,\n",
       "            min_weight_fraction_leaf=0.0, n_estimators=10, n_jobs=1,\n",
       "            oob_score=False, random_state=456, verbose=0, warm_start=False)"
      ]
     },
     "execution_count": 622,
     "metadata": {},
     "output_type": "execute_result"
    }
   ],
   "source": [
    "## Fit the Random Tree classifier to training set\n",
    "rf = RandomForestClassifier(random_state=456)\n",
    "rf.fit(X_train, y_train)   # with default settings\n"
   ]
  },
  {
   "cell_type": "code",
   "execution_count": 623,
   "metadata": {
    "collapsed": true
   },
   "outputs": [],
   "source": [
    "y_pred = rf.predict(X_test)"
   ]
  },
  {
   "cell_type": "markdown",
   "metadata": {},
   "source": [
    "### Model Evaluation"
   ]
  },
  {
   "cell_type": "code",
   "execution_count": 624,
   "metadata": {},
   "outputs": [
    {
     "name": "stdout",
     "output_type": "stream",
     "text": [
      "Random forest TRAIN score with  0.8553719008264463\n",
      "Random forest TEST score with  0.8360655737704918\n",
      "\n",
      "Random Forest Accuracy: 83.61%\n",
      "\n",
      "RF Confusion Matrix :\n",
      " [[22  6]\n",
      " [ 4 29]]\n",
      "\n",
      "RF Classification Report :\n",
      "              precision    recall  f1-score   support\n",
      "\n",
      "          0       0.85      0.79      0.81        28\n",
      "          1       0.83      0.88      0.85        33\n",
      "\n",
      "avg / total       0.84      0.84      0.84        61\n",
      "\n"
     ]
    }
   ],
   "source": [
    "print(\"Random forest TRAIN score with \",format(rf1.score(X_train, y_train)))\n",
    "print(\"Random forest TEST score with \",format(rf1.score(X_test, y_test)))\n",
    "\n",
    "print(\"\\nRandom Forest Accuracy: {:.2f}%\".format(accuracy_score(y_test, y_pred) * 100))\n",
    "print(\"\\nRF Confusion Matrix :\\n\", confusion_matrix(y_test, y_pred))\n",
    "print(\"\\nRF Classification Report :\\n\",classification_report(y_test, y_pred))"
   ]
  },
  {
   "cell_type": "markdown",
   "metadata": {},
   "source": [
    "### Area Under ROC Curve\n",
    "\n",
    "Area under ROC Curve (or AUC for short) is a performance metric for binary classification problems.\n",
    "The AUC represents a model’s ability to discriminate between positive and negative classes. \n",
    "* An area of 1.0 represents a model that made all predictions perfectly. \n",
    "* An area of 0.5 represents a model as good as random."
   ]
  },
  {
   "cell_type": "code",
   "execution_count": 625,
   "metadata": {},
   "outputs": [
    {
     "name": "stdout",
     "output_type": "stream",
     "text": [
      "Area under the ROC curve:  0.832251082251\n"
     ]
    }
   ],
   "source": [
    "#from sklearn.metrics import roc_curve, auc\n",
    "false_positive_rate, true_positive_rate, thresholds = roc_curve(y_test, y_pred)\n",
    "\n",
    "# area under the curve\n",
    "roc_auc = auc(false_positive_rate, true_positive_rate)\n",
    "print(\"Area under the ROC curve: \",roc_auc)"
   ]
  },
  {
   "cell_type": "markdown",
   "metadata": {},
   "source": [
    "### Sensitivity and Specificity\n",
    "\n",
    "ROC can be broken down into sensitivity and specificity. A binary classification problem is really a trade-off between sensitivity and specificity.\n",
    "\n",
    "Sensitivity is the true positive rate also called the recall. \n",
    "* It is the number instances from the positive (first) class that actually predicted correctly.\n",
    "\n",
    "Specificity is also called the true negative rate. \n",
    "* Is the number of instances from the negative class (second) class that were actually predicted correctly."
   ]
  },
  {
   "cell_type": "code",
   "execution_count": 626,
   "metadata": {},
   "outputs": [
    {
     "name": "stdout",
     "output_type": "stream",
     "text": [
      "Sensitivity/ True positive rate = TP/(TP+FN) :  0.846153846154\n",
      "Specificity/ True negative rate = TN/(TN+FP) :  0.828571428571\n"
     ]
    }
   ],
   "source": [
    "cm = confusion_matrix(y_test, y_pred)\n",
    "total=sum(sum(cm))\n",
    "\n",
    "# Sensitivity: Percentage of positives that are successfully classified as positive\n",
    "# Sensitivity or Recall = TP/(TP+FN)  \n",
    "\n",
    "sensitivity = cm[0,0]/(cm[0,0]+cm[1,0])\n",
    "print('Sensitivity/ True positive rate = TP/(TP+FN) : ', sensitivity )\n",
    "\n",
    "# Specificity: Percentage of negatives that are successfully classified as negatives\n",
    "# Specificity = TN/(TN+FP)\n",
    "\n",
    "specificity = cm[1,1]/(cm[1,1]+cm[0,1])\n",
    "print('Specificity/ True negative rate = TN/(TN+FP) : ', specificity)"
   ]
  },
  {
   "cell_type": "markdown",
   "metadata": {},
   "source": [
    "### K-fold Cross-Validation"
   ]
  },
  {
   "cell_type": "code",
   "execution_count": 627,
   "metadata": {},
   "outputs": [
    {
     "name": "stdout",
     "output_type": "stream",
     "text": [
      "10 Fold accuracy : \n",
      " [ 0.87096774  0.74193548  0.90322581  0.56666667  0.76666667  0.83333333\n",
      "  0.76666667  0.83333333  0.8         0.66666667]\n",
      "Mean Accuracy: 0.7749462365591399\n",
      "Std Accuracy: 0.09457971853810244\n"
     ]
    }
   ],
   "source": [
    "from sklearn import model_selection\n",
    "\n",
    "scoring = 'accuracy'\n",
    "kfold = model_selection.KFold(n_splits=10, random_state=456)\n",
    "cv_results = model_selection.cross_val_score(rf, X, y, cv=kfold, scoring=scoring)\n",
    "\n",
    "print(\"10 Fold accuracy : \\n {0}\".format(cv_results))\n",
    "print(\"Mean Accuracy: {0}\".format(cv_results.mean()))\n",
    "print(\"Std Accuracy: {0}\".format(cv_results.std()))"
   ]
  },
  {
   "cell_type": "markdown",
   "metadata": {},
   "source": [
    "### Hyper-parameter tuning"
   ]
  },
  {
   "cell_type": "code",
   "execution_count": 628,
   "metadata": {},
   "outputs": [
    {
     "name": "stdout",
     "output_type": "stream",
     "text": [
      "Best Parameters using grid search: \n",
      " {'criterion': 'entropy', 'max_depth': 3, 'min_samples_split': 5, 'n_estimators': 50}\n",
      "Time taken in grid search:  15.91\n"
     ]
    },
    {
     "data": {
      "text/plain": [
       "RandomForestClassifier(bootstrap=True, class_weight=None, criterion='entropy',\n",
       "            max_depth=3, max_features='auto', max_leaf_nodes=None,\n",
       "            min_impurity_decrease=0.0, min_impurity_split=None,\n",
       "            min_samples_leaf=1, min_samples_split=5,\n",
       "            min_weight_fraction_leaf=0.0, n_estimators=50, n_jobs=1,\n",
       "            oob_score=False, random_state=456, verbose=0, warm_start=False)"
      ]
     },
     "execution_count": 628,
     "metadata": {},
     "output_type": "execute_result"
    }
   ],
   "source": [
    "## Choose a set of hyperparameters for tuning\n",
    "## and use GridSearchCV to find the best combination of parameters\n",
    "\n",
    "import time\n",
    "start = time.time()\n",
    "criteria = ('gini', 'entropy')\n",
    "n_estimators = [20, 35, 50, 65]\n",
    "max_depths = (2,3,4)\n",
    "min_samples_splits = [2,3,5]\n",
    "\n",
    "parameters = { 'criterion': criteria,\n",
    "              'n_estimators': n_estimators,\n",
    "               'max_depth': max_depths,\n",
    "               'min_samples_split': min_samples_splits,\n",
    "             }\n",
    "\n",
    "rf1 = RandomForestClassifier(random_state=456)\n",
    "rf_model = GridSearchCV(rf1, parameters,cv = 10,n_jobs = 3)\n",
    "\n",
    "rf_model.fit(X_train, y_train)\n",
    "print('Best Parameters using grid search: \\n', rf_model.best_params_)\n",
    "\n",
    "end = time.time()\n",
    "print('Time taken in grid search: {0: .2f}'.format(end - start))\n",
    "\n",
    "# Set the rf to the best combination of parameters\n",
    "rf1 = rf_model.best_estimator_\n",
    "\n",
    "# Fit the best algorithm to the data. \n",
    "rf1.fit(X_train, y_train)"
   ]
  },
  {
   "cell_type": "code",
   "execution_count": 630,
   "metadata": {
    "scrolled": true
   },
   "outputs": [
    {
     "name": "stdout",
     "output_type": "stream",
     "text": [
      "Random forest TRAIN score with  0.8553719008264463\n",
      "Random forest TEST score with  0.8360655737704918\n",
      "\n",
      "Random Forest Accuracy: 83.61%\n",
      "\n",
      "Confusion Matrix RF:\n",
      " [[19  9]\n",
      " [ 1 32]]\n",
      "\n",
      "Classification Report RF:\n",
      "              precision    recall  f1-score   support\n",
      "\n",
      "          0       0.95      0.68      0.79        28\n",
      "          1       0.78      0.97      0.86        33\n",
      "\n",
      "avg / total       0.86      0.84      0.83        61\n",
      "\n"
     ]
    }
   ],
   "source": [
    "y1_pred = rf1.predict(X_test)\n",
    "cm1 = confusion_matrix(y_test, y1_pred)\n",
    "print(\"Random forest TRAIN score with \",format(rf1.score(X_train, y_train)))\n",
    "print(\"Random forest TEST score with \",format(rf1.score(X_test, y_test)))\n",
    "\n",
    "print(\"\\nRandom Forest Accuracy: {:.2f}%\".format(accuracy_score(y_test, y1_pred) * 100))\n",
    "print(\"\\nConfusion Matrix RF:\\n\", cm1)\n",
    "print(\"\\nClassification Report RF:\\n\",classification_report(y_test, y1_pred))\n"
   ]
  },
  {
   "cell_type": "markdown",
   "metadata": {},
   "source": [
    "### Compare different classification models"
   ]
  },
  {
   "cell_type": "code",
   "execution_count": 631,
   "metadata": {
    "collapsed": true
   },
   "outputs": [],
   "source": [
    "# Evaluate each model \n",
    "\n",
    "Models = [\n",
    "    #GLM\n",
    "    sklearn.linear_model.LogisticRegressionCV(),\n",
    "    #Nearest Neighbor\n",
    "    sklearn.neighbors.KNeighborsClassifier(), \n",
    "    #Navies Bayes\n",
    "    sklearn.naive_bayes.GaussianNB(),       \n",
    "    #Trees    \n",
    "    sklearn.tree.DecisionTreeClassifier(),\n",
    "    #Ensemble Methods\n",
    "    sklearn.ensemble.RandomForestClassifier()    \n",
    "]"
   ]
  },
  {
   "cell_type": "code",
   "execution_count": 632,
   "metadata": {
    "collapsed": true
   },
   "outputs": [],
   "source": [
    "x_train, x_test, y_train, y_test = train_test_split( X, y, test_size=0.2,random_state=456)"
   ]
  },
  {
   "cell_type": "markdown",
   "metadata": {},
   "source": [
    "### Compare models using F1-Score\n",
    "\n",
    "The F1 score can be interpreted as a weighted average of the precision and recall, where an F1 score reaches its best value at 1 and worst score at 0. \n",
    "The relative contribution of precision and recall to the F1 score are equal. The formula for the F1 score is:\n",
    "    F1 = 2 * (precision * recall) / (precision + recall)"
   ]
  },
  {
   "cell_type": "code",
   "execution_count": 633,
   "metadata": {
    "scrolled": true
   },
   "outputs": [
    {
     "data": {
      "text/html": [
       "<div>\n",
       "<style>\n",
       "    .dataframe thead tr:only-child th {\n",
       "        text-align: right;\n",
       "    }\n",
       "\n",
       "    .dataframe thead th {\n",
       "        text-align: left;\n",
       "    }\n",
       "\n",
       "    .dataframe tbody tr th {\n",
       "        vertical-align: top;\n",
       "    }\n",
       "</style>\n",
       "<table border=\"1\" class=\"dataframe\">\n",
       "  <thead>\n",
       "    <tr style=\"text-align: right;\">\n",
       "      <th></th>\n",
       "      <th>Model Name</th>\n",
       "      <th>Model Train Accuracy</th>\n",
       "      <th>Model Test Accuracy</th>\n",
       "      <th>Model Precission</th>\n",
       "      <th>Model Recall</th>\n",
       "      <th>Model AUC</th>\n",
       "      <th>Model F1-score weighted</th>\n",
       "    </tr>\n",
       "  </thead>\n",
       "  <tbody>\n",
       "    <tr>\n",
       "      <th>4</th>\n",
       "      <td>RandomForestClassifier</td>\n",
       "      <td>0.9876</td>\n",
       "      <td>0.8525</td>\n",
       "      <td>0.815789</td>\n",
       "      <td>0.939394</td>\n",
       "      <td>0.844697</td>\n",
       "      <td>0.850422</td>\n",
       "    </tr>\n",
       "    <tr>\n",
       "      <th>0</th>\n",
       "      <td>LogisticRegressionCV</td>\n",
       "      <td>0.8471</td>\n",
       "      <td>0.8361</td>\n",
       "      <td>0.794872</td>\n",
       "      <td>0.939394</td>\n",
       "      <td>0.826840</td>\n",
       "      <td>0.833060</td>\n",
       "    </tr>\n",
       "    <tr>\n",
       "      <th>2</th>\n",
       "      <td>GaussianNB</td>\n",
       "      <td>0.8512</td>\n",
       "      <td>0.8361</td>\n",
       "      <td>0.828571</td>\n",
       "      <td>0.878788</td>\n",
       "      <td>0.832251</td>\n",
       "      <td>0.835441</td>\n",
       "    </tr>\n",
       "    <tr>\n",
       "      <th>3</th>\n",
       "      <td>DecisionTreeClassifier</td>\n",
       "      <td>1.0000</td>\n",
       "      <td>0.7705</td>\n",
       "      <td>0.756757</td>\n",
       "      <td>0.848485</td>\n",
       "      <td>0.763528</td>\n",
       "      <td>0.768222</td>\n",
       "    </tr>\n",
       "    <tr>\n",
       "      <th>1</th>\n",
       "      <td>KNeighborsClassifier</td>\n",
       "      <td>0.7603</td>\n",
       "      <td>0.7213</td>\n",
       "      <td>0.722222</td>\n",
       "      <td>0.787879</td>\n",
       "      <td>0.715368</td>\n",
       "      <td>0.719483</td>\n",
       "    </tr>\n",
       "  </tbody>\n",
       "</table>\n",
       "</div>"
      ],
      "text/plain": [
       "               Model Name  Model Train Accuracy  Model Test Accuracy  \\\n",
       "4  RandomForestClassifier                0.9876               0.8525   \n",
       "0    LogisticRegressionCV                0.8471               0.8361   \n",
       "2              GaussianNB                0.8512               0.8361   \n",
       "3  DecisionTreeClassifier                1.0000               0.7705   \n",
       "1    KNeighborsClassifier                0.7603               0.7213   \n",
       "\n",
       "   Model Precission  Model Recall  Model AUC  Model F1-score weighted  \n",
       "4          0.815789      0.939394   0.844697                 0.850422  \n",
       "0          0.794872      0.939394   0.826840                 0.833060  \n",
       "2          0.828571      0.878788   0.832251                 0.835441  \n",
       "3          0.756757      0.848485   0.763528                 0.768222  \n",
       "1          0.722222      0.787879   0.715368                 0.719483  "
      ]
     },
     "execution_count": 633,
     "metadata": {},
     "output_type": "execute_result"
    }
   ],
   "source": [
    "# Fit the model and predict\n",
    "\n",
    "Model_columns = []\n",
    "Model_compare = pd.DataFrame(columns = Model_columns)\n",
    "\n",
    "row_index = 0\n",
    "for model in Models:\n",
    "    \n",
    "    predicted = model.fit(x_train, y_train).predict(x_test)\n",
    "    fp, tp, th = roc_curve(y_test, predicted)\n",
    "   \n",
    "    Model_name = model.__class__.__name__\n",
    "    Model_compare.loc[row_index, 'Model Name'] = Model_name\n",
    "    Model_compare.loc[row_index, 'Model Train Accuracy'] = round(model.score(x_train, y_train), 4)\n",
    "    Model_compare.loc[row_index, 'Model Test Accuracy'] = round(model.score(x_test, y_test), 4)\n",
    "    Model_compare.loc[row_index, 'Model Precission'] = precision_score(y_test, predicted)\n",
    "    Model_compare.loc[row_index, 'Model Recall'] = recall_score(y_test, predicted)\n",
    "    Model_compare.loc[row_index, 'Model AUC'] = auc(fp, tp)\n",
    "    Model_compare.loc[row_index, 'Model F1-score weighted'] = f1_score(y_test, predicted, average='weighted')\n",
    "\n",
    "    row_index+=1\n",
    "    \n",
    "Model_compare.sort_values(by = ['Model Test Accuracy'], ascending = False, inplace = True)    \n",
    "Model_compare"
   ]
  },
  {
   "cell_type": "code",
   "execution_count": 634,
   "metadata": {},
   "outputs": [
    {
     "data": {
      "image/png": "[encoded data removed]",
      "text/plain": [
       "<matplotlib.figure.Figure at 0x1a1595f6a0>"
      ]
     },
     "metadata": {},
     "output_type": "display_data"
    }
   ],
   "source": [
    "# Plot the models using F1-Score\n",
    "\n",
    "plt.subplots(figsize=(15,6))\n",
    "sns.barplot(x=\"Model Name\", y=\"Model F1-score weighted\",data=Model_compare,palette='hot',edgecolor=sns.color_palette('dark',7))\n",
    "plt.xticks(rotation=90)\n",
    "plt.title('Model F1-score weighted Comparison')\n",
    "plt.show()"
   ]
  },
  {
   "cell_type": "code",
   "execution_count": null,
   "metadata": {
    "collapsed": true
   },
   "outputs": [],
   "source": []
  },
  {
   "cell_type": "code",
   "execution_count": null,
   "metadata": {
    "collapsed": true
   },
   "outputs": [],
   "source": []
  }
 ],
 "metadata": {
  "kernelspec": {
   "display_name": "Python 3",
   "language": "python",
   "name": "python3"
  },
  "language_info": {
   "codemirror_mode": {
    "name": "ipython",
    "version": 3
   },
   "file_extension": ".py",
   "mimetype": "text/x-python",
   "name": "python",
   "nbconvert_exporter": "python",
   "pygments_lexer": "ipython3",
   "version": "3.6.3"
  }
 },
 "nbformat": 4,
 "nbformat_minor": 2
}
